{
  "nbformat": 4,
  "nbformat_minor": 0,
  "metadata": {
    "colab": {
      "name": "Testing_multitask_fastai_v1_article2.ipynb",
      "provenance": [],
      "collapsed_sections": [
        "pk0tt95HCQTD"
      ],
      "toc_visible": true
    },
    "kernelspec": {
      "display_name": "Python 3",
      "language": "python",
      "name": "python3"
    },
    "language_info": {
      "codemirror_mode": {
        "name": "ipython",
        "version": 3
      },
      "file_extension": ".py",
      "mimetype": "text/x-python",
      "name": "python",
      "nbconvert_exporter": "python",
      "pygments_lexer": "ipython3",
      "version": "3.7.4"
    },
    "accelerator": "GPU",
    "widgets": {
      "application/vnd.jupyter.widget-state+json": {
        "e6bf79449bd44d4b940d26d8d5899cfb": {
          "model_module": "@jupyter-widgets/controls",
          "model_name": "HBoxModel",
          "state": {
            "_view_name": "HBoxView",
            "_dom_classes": [],
            "_model_name": "HBoxModel",
            "_view_module": "@jupyter-widgets/controls",
            "_model_module_version": "1.5.0",
            "_view_count": null,
            "_view_module_version": "1.5.0",
            "box_style": "",
            "layout": "IPY_MODEL_af4f370db5cf4d38a72d234a33cc5b7a",
            "_model_module": "@jupyter-widgets/controls",
            "children": [
              "IPY_MODEL_0f68194ab1a14a77951d9bd20945c5fb",
              "IPY_MODEL_2f7da0918b5d4ec0bc81714724ab5e73"
            ]
          }
        },
        "af4f370db5cf4d38a72d234a33cc5b7a": {
          "model_module": "@jupyter-widgets/base",
          "model_name": "LayoutModel",
          "state": {
            "_view_name": "LayoutView",
            "grid_template_rows": null,
            "right": null,
            "justify_content": null,
            "_view_module": "@jupyter-widgets/base",
            "overflow": null,
            "_model_module_version": "1.2.0",
            "_view_count": null,
            "flex_flow": null,
            "width": null,
            "min_width": null,
            "border": null,
            "align_items": null,
            "bottom": null,
            "_model_module": "@jupyter-widgets/base",
            "top": null,
            "grid_column": null,
            "overflow_y": null,
            "overflow_x": null,
            "grid_auto_flow": null,
            "grid_area": null,
            "grid_template_columns": null,
            "flex": null,
            "_model_name": "LayoutModel",
            "justify_items": null,
            "grid_row": null,
            "max_height": null,
            "align_content": null,
            "visibility": null,
            "align_self": null,
            "height": null,
            "min_height": null,
            "padding": null,
            "grid_auto_rows": null,
            "grid_gap": null,
            "max_width": null,
            "order": null,
            "_view_module_version": "1.2.0",
            "grid_template_areas": null,
            "object_position": null,
            "object_fit": null,
            "grid_auto_columns": null,
            "margin": null,
            "display": null,
            "left": null
          }
        },
        "0f68194ab1a14a77951d9bd20945c5fb": {
          "model_module": "@jupyter-widgets/controls",
          "model_name": "FloatProgressModel",
          "state": {
            "_view_name": "ProgressView",
            "style": "IPY_MODEL_5a1c34bfce0a4fc292349c99bd1c3602",
            "_dom_classes": [],
            "description": "100%",
            "_model_name": "FloatProgressModel",
            "bar_style": "success",
            "max": 46827520,
            "_view_module": "@jupyter-widgets/controls",
            "_model_module_version": "1.5.0",
            "value": 46827520,
            "_view_count": null,
            "_view_module_version": "1.5.0",
            "orientation": "horizontal",
            "min": 0,
            "description_tooltip": null,
            "_model_module": "@jupyter-widgets/controls",
            "layout": "IPY_MODEL_2c96b5bf41ba431fa541aa7777c6cfe2"
          }
        },
        "2f7da0918b5d4ec0bc81714724ab5e73": {
          "model_module": "@jupyter-widgets/controls",
          "model_name": "HTMLModel",
          "state": {
            "_view_name": "HTMLView",
            "style": "IPY_MODEL_42849a5bd6944231a7ed4a8546f5c962",
            "_dom_classes": [],
            "description": "",
            "_model_name": "HTMLModel",
            "placeholder": "​",
            "_view_module": "@jupyter-widgets/controls",
            "_model_module_version": "1.5.0",
            "value": " 44.7M/44.7M [03:19&lt;00:00, 235kB/s]",
            "_view_count": null,
            "_view_module_version": "1.5.0",
            "description_tooltip": null,
            "_model_module": "@jupyter-widgets/controls",
            "layout": "IPY_MODEL_2980c2ce28854b589de9469b871f2719"
          }
        },
        "5a1c34bfce0a4fc292349c99bd1c3602": {
          "model_module": "@jupyter-widgets/controls",
          "model_name": "ProgressStyleModel",
          "state": {
            "_view_name": "StyleView",
            "_model_name": "ProgressStyleModel",
            "description_width": "initial",
            "_view_module": "@jupyter-widgets/base",
            "_model_module_version": "1.5.0",
            "_view_count": null,
            "_view_module_version": "1.2.0",
            "bar_color": null,
            "_model_module": "@jupyter-widgets/controls"
          }
        },
        "2c96b5bf41ba431fa541aa7777c6cfe2": {
          "model_module": "@jupyter-widgets/base",
          "model_name": "LayoutModel",
          "state": {
            "_view_name": "LayoutView",
            "grid_template_rows": null,
            "right": null,
            "justify_content": null,
            "_view_module": "@jupyter-widgets/base",
            "overflow": null,
            "_model_module_version": "1.2.0",
            "_view_count": null,
            "flex_flow": null,
            "width": null,
            "min_width": null,
            "border": null,
            "align_items": null,
            "bottom": null,
            "_model_module": "@jupyter-widgets/base",
            "top": null,
            "grid_column": null,
            "overflow_y": null,
            "overflow_x": null,
            "grid_auto_flow": null,
            "grid_area": null,
            "grid_template_columns": null,
            "flex": null,
            "_model_name": "LayoutModel",
            "justify_items": null,
            "grid_row": null,
            "max_height": null,
            "align_content": null,
            "visibility": null,
            "align_self": null,
            "height": null,
            "min_height": null,
            "padding": null,
            "grid_auto_rows": null,
            "grid_gap": null,
            "max_width": null,
            "order": null,
            "_view_module_version": "1.2.0",
            "grid_template_areas": null,
            "object_position": null,
            "object_fit": null,
            "grid_auto_columns": null,
            "margin": null,
            "display": null,
            "left": null
          }
        },
        "42849a5bd6944231a7ed4a8546f5c962": {
          "model_module": "@jupyter-widgets/controls",
          "model_name": "DescriptionStyleModel",
          "state": {
            "_view_name": "StyleView",
            "_model_name": "DescriptionStyleModel",
            "description_width": "",
            "_view_module": "@jupyter-widgets/base",
            "_model_module_version": "1.5.0",
            "_view_count": null,
            "_view_module_version": "1.2.0",
            "_model_module": "@jupyter-widgets/controls"
          }
        },
        "2980c2ce28854b589de9469b871f2719": {
          "model_module": "@jupyter-widgets/base",
          "model_name": "LayoutModel",
          "state": {
            "_view_name": "LayoutView",
            "grid_template_rows": null,
            "right": null,
            "justify_content": null,
            "_view_module": "@jupyter-widgets/base",
            "overflow": null,
            "_model_module_version": "1.2.0",
            "_view_count": null,
            "flex_flow": null,
            "width": null,
            "min_width": null,
            "border": null,
            "align_items": null,
            "bottom": null,
            "_model_module": "@jupyter-widgets/base",
            "top": null,
            "grid_column": null,
            "overflow_y": null,
            "overflow_x": null,
            "grid_auto_flow": null,
            "grid_area": null,
            "grid_template_columns": null,
            "flex": null,
            "_model_name": "LayoutModel",
            "justify_items": null,
            "grid_row": null,
            "max_height": null,
            "align_content": null,
            "visibility": null,
            "align_self": null,
            "height": null,
            "min_height": null,
            "padding": null,
            "grid_auto_rows": null,
            "grid_gap": null,
            "max_width": null,
            "order": null,
            "_view_module_version": "1.2.0",
            "grid_template_areas": null,
            "object_position": null,
            "object_fit": null,
            "grid_auto_columns": null,
            "margin": null,
            "display": null,
            "left": null
          }
        }
      }
    }
  },
  "cells": [
    {
      "cell_type": "markdown",
      "metadata": {
        "id": "PhDDXmvK9ipf"
      },
      "source": [
        "# 1. Reading the data"
      ]
    },
    {
      "cell_type": "code",
      "metadata": {
        "colab": {
          "base_uri": "https://localhost:8080/"
        },
        "id": "uKJrYkZQ9Wam",
        "outputId": "bad69e51-cd21-497a-8f46-7f23bcdadd1f"
      },
      "source": [
        "from google.colab import drive\n",
        "drive.mount('/content/drive')"
      ],
      "execution_count": 1,
      "outputs": [
        {
          "output_type": "stream",
          "text": [
            "Mounted at /content/drive\n"
          ],
          "name": "stdout"
        }
      ]
    },
    {
      "cell_type": "code",
      "metadata": {
        "id": "Fv96hgHYaPyv"
      },
      "source": [
        "# !unzip \"/content/drive/MyDrive/kaggle_dataset_images.zip\" -d \"/content/drive/MyDrive/kaggle_dataset_images\""
      ],
      "execution_count": null,
      "outputs": []
    },
    {
      "cell_type": "code",
      "metadata": {
        "colab": {
          "base_uri": "https://localhost:8080/"
        },
        "id": "47dQoGD3Lcuv",
        "outputId": "286de321-b4d7-4900-c9cb-1403068fd1e6"
      },
      "source": [
        "import glob\n",
        "len(glob.glob1(\"/content/drive/MyDrive/kaggle_dataset_images/utkface_aligned_cropped/UTKFace/\",\"*.jpg\"))"
      ],
      "execution_count": 5,
      "outputs": [
        {
          "output_type": "execute_result",
          "data": {
            "text/plain": [
              "23708"
            ]
          },
          "metadata": {
            "tags": []
          },
          "execution_count": 5
        }
      ]
    },
    {
      "cell_type": "code",
      "metadata": {
        "colab": {
          "base_uri": "https://localhost:8080/"
        },
        "id": "7a5HI0W2Y8U0",
        "outputId": "db7d6a30-a3c9-4529-fff0-111d61f4dcd3"
      },
      "source": [
        "import glob\n",
        "len(glob.glob1(\"/content/drive/MyDrive/kaggle_dataset_images/utkface_aligned_cropped/crop_part1/\",\"*.jpg\"))"
      ],
      "execution_count": 3,
      "outputs": [
        {
          "output_type": "execute_result",
          "data": {
            "text/plain": [
              "9780"
            ]
          },
          "metadata": {
            "tags": []
          },
          "execution_count": 3
        }
      ]
    },
    {
      "cell_type": "code",
      "metadata": {
        "_cell_guid": "79c7e3d0-c299-4dcb-8224-4455121ee9b0",
        "_uuid": "d629ff2d2480ee46fbb7e2d37f6b5fab8052498a",
        "id": "RIdDGdBs9ipg"
      },
      "source": [
        "from fastai import *\n",
        "from fastai.vision import *\n",
        "from fastai.layers import MSELossFlat, CrossEntropyFlat\n",
        "from torchvision import transforms\n",
        "import warnings\n",
        "warnings.filterwarnings(\"ignore\")"
      ],
      "execution_count": 6,
      "outputs": []
    },
    {
      "cell_type": "code",
      "metadata": {
        "id": "YQly8kKn9ipp"
      },
      "source": [
        "files_train = get_image_files(\"/content/drive/MyDrive/kaggle_dataset_images/utkface_aligned_cropped/UTKFace/\")\n",
        "files_valid = get_image_files(\"/content/drive/MyDrive/kaggle_dataset_images/utkface_aligned_cropped/crop_part1/\")"
      ],
      "execution_count": 14,
      "outputs": []
    },
    {
      "cell_type": "code",
      "metadata": {
        "id": "2-nbuKZf9ipu",
        "colab": {
          "base_uri": "https://localhost:8080/"
        },
        "outputId": "d0e06676-3eda-4bd4-b437-5fa5c0419172"
      },
      "source": [
        "len(files_train[:1000]), len(files_valid[:1000])"
      ],
      "execution_count": 15,
      "outputs": [
        {
          "output_type": "execute_result",
          "data": {
            "text/plain": [
              "(1000, 1000)"
            ]
          },
          "metadata": {
            "tags": []
          },
          "execution_count": 15
        }
      ]
    },
    {
      "cell_type": "code",
      "metadata": {
        "id": "sjyLkele9ip1"
      },
      "source": [
        "df_train = pd.DataFrame(files_train[:1000],columns=[\"name\"])\n",
        "df_train.name = df_train.name.apply(str)\n",
        "df_train[\"label\"] = df_train.name.apply(lambda x: re.findall(r\"\\d{1,3}_\\d_\\d\",x)[0])\n",
        "df_train[\"label\"] = df_train.label.apply(lambda x: re.sub(\"_\",\" \", x))\n",
        "df_train[\"age\"] = df_train.label.apply(lambda x: int(x.split(\" \")[0]))\n",
        "df_train[\"gender\"] = df_train.label.apply(lambda x: int(x.split(\" \")[1]))\n",
        "df_train[\"ethnicity\"] = df_train.label.apply(lambda x: int(x.split(\" \")[2]))"
      ],
      "execution_count": 19,
      "outputs": []
    },
    {
      "cell_type": "code",
      "metadata": {
        "id": "B2aWFLF0CQP9"
      },
      "source": [
        "df_valid = pd.DataFrame(files_valid[:100],columns=[\"name\"])\n",
        "df_valid.name = df_valid.name.apply(str)\n",
        "df_valid[\"label\"] = df_valid.name.apply(lambda x: re.findall(r\"\\d{1,3}_\\d_\\d\",x)[0])\n",
        "df_valid[\"label\"] = df_valid.label.apply(lambda x: re.sub(\"_\",\" \", x))\n",
        "df_valid[\"age\"] = df_valid.label.apply(lambda x: int(x.split(\" \")[0]))\n",
        "df_valid[\"gender\"] = df_valid.label.apply(lambda x: int(x.split(\" \")[1]))\n",
        "df_valid[\"ethnicity\"] = df_valid.label.apply(lambda x: int(x.split(\" \")[2]))"
      ],
      "execution_count": 20,
      "outputs": []
    },
    {
      "cell_type": "code",
      "metadata": {
        "id": "Ofp-d8XD9iqE",
        "colab": {
          "base_uri": "https://localhost:8080/",
          "height": 424
        },
        "outputId": "3a365717-acd9-4bec-be7e-869ee166d219"
      },
      "source": [
        "df_train"
      ],
      "execution_count": 21,
      "outputs": [
        {
          "output_type": "execute_result",
          "data": {
            "text/html": [
              "<div>\n",
              "<style scoped>\n",
              "    .dataframe tbody tr th:only-of-type {\n",
              "        vertical-align: middle;\n",
              "    }\n",
              "\n",
              "    .dataframe tbody tr th {\n",
              "        vertical-align: top;\n",
              "    }\n",
              "\n",
              "    .dataframe thead th {\n",
              "        text-align: right;\n",
              "    }\n",
              "</style>\n",
              "<table border=\"1\" class=\"dataframe\">\n",
              "  <thead>\n",
              "    <tr style=\"text-align: right;\">\n",
              "      <th></th>\n",
              "      <th>name</th>\n",
              "      <th>label</th>\n",
              "      <th>age</th>\n",
              "      <th>gender</th>\n",
              "      <th>ethnicity</th>\n",
              "    </tr>\n",
              "  </thead>\n",
              "  <tbody>\n",
              "    <tr>\n",
              "      <th>0</th>\n",
              "      <td>/content/drive/MyDrive/kaggle_dataset_images/u...</td>\n",
              "      <td>67 0 0</td>\n",
              "      <td>67</td>\n",
              "      <td>0</td>\n",
              "      <td>0</td>\n",
              "    </tr>\n",
              "    <tr>\n",
              "      <th>1</th>\n",
              "      <td>/content/drive/MyDrive/kaggle_dataset_images/u...</td>\n",
              "      <td>8 0 0</td>\n",
              "      <td>8</td>\n",
              "      <td>0</td>\n",
              "      <td>0</td>\n",
              "    </tr>\n",
              "    <tr>\n",
              "      <th>2</th>\n",
              "      <td>/content/drive/MyDrive/kaggle_dataset_images/u...</td>\n",
              "      <td>85 1 0</td>\n",
              "      <td>85</td>\n",
              "      <td>1</td>\n",
              "      <td>0</td>\n",
              "    </tr>\n",
              "    <tr>\n",
              "      <th>3</th>\n",
              "      <td>/content/drive/MyDrive/kaggle_dataset_images/u...</td>\n",
              "      <td>66 1 0</td>\n",
              "      <td>66</td>\n",
              "      <td>1</td>\n",
              "      <td>0</td>\n",
              "    </tr>\n",
              "    <tr>\n",
              "      <th>4</th>\n",
              "      <td>/content/drive/MyDrive/kaggle_dataset_images/u...</td>\n",
              "      <td>78 0 0</td>\n",
              "      <td>78</td>\n",
              "      <td>0</td>\n",
              "      <td>0</td>\n",
              "    </tr>\n",
              "    <tr>\n",
              "      <th>...</th>\n",
              "      <td>...</td>\n",
              "      <td>...</td>\n",
              "      <td>...</td>\n",
              "      <td>...</td>\n",
              "      <td>...</td>\n",
              "    </tr>\n",
              "    <tr>\n",
              "      <th>995</th>\n",
              "      <td>/content/drive/MyDrive/kaggle_dataset_images/u...</td>\n",
              "      <td>9 0 0</td>\n",
              "      <td>9</td>\n",
              "      <td>0</td>\n",
              "      <td>0</td>\n",
              "    </tr>\n",
              "    <tr>\n",
              "      <th>996</th>\n",
              "      <td>/content/drive/MyDrive/kaggle_dataset_images/u...</td>\n",
              "      <td>9 0 0</td>\n",
              "      <td>9</td>\n",
              "      <td>0</td>\n",
              "      <td>0</td>\n",
              "    </tr>\n",
              "    <tr>\n",
              "      <th>997</th>\n",
              "      <td>/content/drive/MyDrive/kaggle_dataset_images/u...</td>\n",
              "      <td>9 0 0</td>\n",
              "      <td>9</td>\n",
              "      <td>0</td>\n",
              "      <td>0</td>\n",
              "    </tr>\n",
              "    <tr>\n",
              "      <th>998</th>\n",
              "      <td>/content/drive/MyDrive/kaggle_dataset_images/u...</td>\n",
              "      <td>9 0 0</td>\n",
              "      <td>9</td>\n",
              "      <td>0</td>\n",
              "      <td>0</td>\n",
              "    </tr>\n",
              "    <tr>\n",
              "      <th>999</th>\n",
              "      <td>/content/drive/MyDrive/kaggle_dataset_images/u...</td>\n",
              "      <td>9 0 3</td>\n",
              "      <td>9</td>\n",
              "      <td>0</td>\n",
              "      <td>3</td>\n",
              "    </tr>\n",
              "  </tbody>\n",
              "</table>\n",
              "<p>1000 rows × 5 columns</p>\n",
              "</div>"
            ],
            "text/plain": [
              "                                                  name  ... ethnicity\n",
              "0    /content/drive/MyDrive/kaggle_dataset_images/u...  ...         0\n",
              "1    /content/drive/MyDrive/kaggle_dataset_images/u...  ...         0\n",
              "2    /content/drive/MyDrive/kaggle_dataset_images/u...  ...         0\n",
              "3    /content/drive/MyDrive/kaggle_dataset_images/u...  ...         0\n",
              "4    /content/drive/MyDrive/kaggle_dataset_images/u...  ...         0\n",
              "..                                                 ...  ...       ...\n",
              "995  /content/drive/MyDrive/kaggle_dataset_images/u...  ...         0\n",
              "996  /content/drive/MyDrive/kaggle_dataset_images/u...  ...         0\n",
              "997  /content/drive/MyDrive/kaggle_dataset_images/u...  ...         0\n",
              "998  /content/drive/MyDrive/kaggle_dataset_images/u...  ...         0\n",
              "999  /content/drive/MyDrive/kaggle_dataset_images/u...  ...         3\n",
              "\n",
              "[1000 rows x 5 columns]"
            ]
          },
          "metadata": {
            "tags": []
          },
          "execution_count": 21
        }
      ]
    },
    {
      "cell_type": "code",
      "metadata": {
        "id": "S5URoV2cCQQK",
        "colab": {
          "base_uri": "https://localhost:8080/",
          "height": 424
        },
        "outputId": "0c15cdc1-00ce-4a50-b98b-77bc089244c8"
      },
      "source": [
        "df_valid"
      ],
      "execution_count": 22,
      "outputs": [
        {
          "output_type": "execute_result",
          "data": {
            "text/html": [
              "<div>\n",
              "<style scoped>\n",
              "    .dataframe tbody tr th:only-of-type {\n",
              "        vertical-align: middle;\n",
              "    }\n",
              "\n",
              "    .dataframe tbody tr th {\n",
              "        vertical-align: top;\n",
              "    }\n",
              "\n",
              "    .dataframe thead th {\n",
              "        text-align: right;\n",
              "    }\n",
              "</style>\n",
              "<table border=\"1\" class=\"dataframe\">\n",
              "  <thead>\n",
              "    <tr style=\"text-align: right;\">\n",
              "      <th></th>\n",
              "      <th>name</th>\n",
              "      <th>label</th>\n",
              "      <th>age</th>\n",
              "      <th>gender</th>\n",
              "      <th>ethnicity</th>\n",
              "    </tr>\n",
              "  </thead>\n",
              "  <tbody>\n",
              "    <tr>\n",
              "      <th>0</th>\n",
              "      <td>/content/drive/MyDrive/kaggle_dataset_images/u...</td>\n",
              "      <td>52 1 0</td>\n",
              "      <td>52</td>\n",
              "      <td>1</td>\n",
              "      <td>0</td>\n",
              "    </tr>\n",
              "    <tr>\n",
              "      <th>1</th>\n",
              "      <td>/content/drive/MyDrive/kaggle_dataset_images/u...</td>\n",
              "      <td>67 1 3</td>\n",
              "      <td>67</td>\n",
              "      <td>1</td>\n",
              "      <td>3</td>\n",
              "    </tr>\n",
              "    <tr>\n",
              "      <th>2</th>\n",
              "      <td>/content/drive/MyDrive/kaggle_dataset_images/u...</td>\n",
              "      <td>70 0 2</td>\n",
              "      <td>70</td>\n",
              "      <td>0</td>\n",
              "      <td>2</td>\n",
              "    </tr>\n",
              "    <tr>\n",
              "      <th>3</th>\n",
              "      <td>/content/drive/MyDrive/kaggle_dataset_images/u...</td>\n",
              "      <td>76 0 2</td>\n",
              "      <td>76</td>\n",
              "      <td>0</td>\n",
              "      <td>2</td>\n",
              "    </tr>\n",
              "    <tr>\n",
              "      <th>4</th>\n",
              "      <td>/content/drive/MyDrive/kaggle_dataset_images/u...</td>\n",
              "      <td>56 0 0</td>\n",
              "      <td>56</td>\n",
              "      <td>0</td>\n",
              "      <td>0</td>\n",
              "    </tr>\n",
              "    <tr>\n",
              "      <th>...</th>\n",
              "      <td>...</td>\n",
              "      <td>...</td>\n",
              "      <td>...</td>\n",
              "      <td>...</td>\n",
              "      <td>...</td>\n",
              "    </tr>\n",
              "    <tr>\n",
              "      <th>95</th>\n",
              "      <td>/content/drive/MyDrive/kaggle_dataset_images/u...</td>\n",
              "      <td>56 1 2</td>\n",
              "      <td>56</td>\n",
              "      <td>1</td>\n",
              "      <td>2</td>\n",
              "    </tr>\n",
              "    <tr>\n",
              "      <th>96</th>\n",
              "      <td>/content/drive/MyDrive/kaggle_dataset_images/u...</td>\n",
              "      <td>79 1 2</td>\n",
              "      <td>79</td>\n",
              "      <td>1</td>\n",
              "      <td>2</td>\n",
              "    </tr>\n",
              "    <tr>\n",
              "      <th>97</th>\n",
              "      <td>/content/drive/MyDrive/kaggle_dataset_images/u...</td>\n",
              "      <td>59 1 0</td>\n",
              "      <td>59</td>\n",
              "      <td>1</td>\n",
              "      <td>0</td>\n",
              "    </tr>\n",
              "    <tr>\n",
              "      <th>98</th>\n",
              "      <td>/content/drive/MyDrive/kaggle_dataset_images/u...</td>\n",
              "      <td>6 1 4</td>\n",
              "      <td>6</td>\n",
              "      <td>1</td>\n",
              "      <td>4</td>\n",
              "    </tr>\n",
              "    <tr>\n",
              "      <th>99</th>\n",
              "      <td>/content/drive/MyDrive/kaggle_dataset_images/u...</td>\n",
              "      <td>84 0 0</td>\n",
              "      <td>84</td>\n",
              "      <td>0</td>\n",
              "      <td>0</td>\n",
              "    </tr>\n",
              "  </tbody>\n",
              "</table>\n",
              "<p>100 rows × 5 columns</p>\n",
              "</div>"
            ],
            "text/plain": [
              "                                                 name  ... ethnicity\n",
              "0   /content/drive/MyDrive/kaggle_dataset_images/u...  ...         0\n",
              "1   /content/drive/MyDrive/kaggle_dataset_images/u...  ...         3\n",
              "2   /content/drive/MyDrive/kaggle_dataset_images/u...  ...         2\n",
              "3   /content/drive/MyDrive/kaggle_dataset_images/u...  ...         2\n",
              "4   /content/drive/MyDrive/kaggle_dataset_images/u...  ...         0\n",
              "..                                                ...  ...       ...\n",
              "95  /content/drive/MyDrive/kaggle_dataset_images/u...  ...         2\n",
              "96  /content/drive/MyDrive/kaggle_dataset_images/u...  ...         2\n",
              "97  /content/drive/MyDrive/kaggle_dataset_images/u...  ...         0\n",
              "98  /content/drive/MyDrive/kaggle_dataset_images/u...  ...         4\n",
              "99  /content/drive/MyDrive/kaggle_dataset_images/u...  ...         0\n",
              "\n",
              "[100 rows x 5 columns]"
            ]
          },
          "metadata": {
            "tags": []
          },
          "execution_count": 22
        }
      ]
    },
    {
      "cell_type": "code",
      "metadata": {
        "id": "yc4SVJwr9iqO",
        "colab": {
          "base_uri": "https://localhost:8080/",
          "height": 268
        },
        "outputId": "3e08d79b-e456-4569-d2e9-fa2f4e721b28"
      },
      "source": [
        "#checking distribution for ages\n",
        "df_train.age.hist()\n",
        "df_valid.age.hist()\n",
        "plt.legend([\"train\",\"valid\"]);"
      ],
      "execution_count": 23,
      "outputs": [
        {
          "output_type": "display_data",
          "data": {
            "image/png": "[encoded data removed]",
            "text/plain": [
              "<Figure size 432x288 with 1 Axes>"
            ]
          },
          "metadata": {
            "tags": [],
            "needs_background": "light"
          }
        }
      ]
    },
    {
      "cell_type": "code",
      "metadata": {
        "id": "yYKkhPgF9iqc",
        "colab": {
          "base_uri": "https://localhost:8080/"
        },
        "outputId": "ad31b051-b9cd-4713-c822-24ef8cc8808a"
      },
      "source": [
        "#should be only 0s and 1s\n",
        "df_train.gender.unique(), df_valid.gender.unique()"
      ],
      "execution_count": 24,
      "outputs": [
        {
          "output_type": "execute_result",
          "data": {
            "text/plain": [
              "(array([0, 1]), array([1, 0, 3]))"
            ]
          },
          "metadata": {
            "tags": []
          },
          "execution_count": 24
        }
      ]
    },
    {
      "cell_type": "code",
      "metadata": {
        "id": "PHtmKBgh9iqi",
        "colab": {
          "base_uri": "https://localhost:8080/",
          "height": 217
        },
        "outputId": "87978969-921c-41d3-c1c3-ecc2a7878015"
      },
      "source": [
        "#checking the mislabeled image\n",
        "open_image(df_valid[df_valid.gender == 3].name.iloc[0])"
      ],
      "execution_count": 25,
      "outputs": [
        {
          "output_type": "execute_result",
          "data": {
            "image/png": "[encoded data removed]",
            "image/jpeg": "[encoded data removed]",
            "text/plain": [
              "Image (3, 200, 200)"
            ]
          },
          "metadata": {
            "tags": []
          },
          "execution_count": 25
        }
      ]
    },
    {
      "cell_type": "code",
      "metadata": {
        "id": "-4S45aow9iqn"
      },
      "source": [
        "#fixing the label\n",
        "idx = df_valid[df_valid.gender == 3].index\n",
        "df_valid.loc[idx,\"gender\"] = 1 #1 means woman"
      ],
      "execution_count": 26,
      "outputs": []
    },
    {
      "cell_type": "code",
      "metadata": {
        "id": "Vw-_4Ih69iqr",
        "colab": {
          "base_uri": "https://localhost:8080/",
          "height": 281
        },
        "outputId": "edf368f3-8917-4333-d7e2-ea6da5355b1a"
      },
      "source": [
        "#accuracy is a good metric fore gender\n",
        "(df_train.gender.value_counts()).plot.barh()\n",
        "plt.title(\"train\");"
      ],
      "execution_count": 27,
      "outputs": [
        {
          "output_type": "display_data",
          "data": {
            "image/png": "[encoded data removed]",
            "text/plain": [
              "<Figure size 432x288 with 1 Axes>"
            ]
          },
          "metadata": {
            "tags": [],
            "needs_background": "light"
          }
        }
      ]
    },
    {
      "cell_type": "code",
      "metadata": {
        "id": "VKndD-W6CQQ2",
        "colab": {
          "base_uri": "https://localhost:8080/",
          "height": 281
        },
        "outputId": "a3bfc7a6-fb1a-4e56-e67e-56753bf8c758"
      },
      "source": [
        "(df_valid.gender.value_counts()).plot.barh()\n",
        "plt.title(\"valid\");"
      ],
      "execution_count": 28,
      "outputs": [
        {
          "output_type": "display_data",
          "data": {
            "image/png": "[encoded data removed]",
            "text/plain": [
              "<Figure size 432x288 with 1 Axes>"
            ]
          },
          "metadata": {
            "tags": [],
            "needs_background": "light"
          }
        }
      ]
    },
    {
      "cell_type": "code",
      "metadata": {
        "id": "YSR0H9qW9iqv",
        "colab": {
          "base_uri": "https://localhost:8080/",
          "height": 281
        },
        "outputId": "f79c38c1-5fa4-4ea8-ff55-3ec5a6f6dd6d"
      },
      "source": [
        "d = {0:\"White\",1:\"Black\",2:\"Asian\",3:\"Indian\",4:\"Others\"}\n",
        "df_train.ethnicity.replace(d).value_counts().sort_index().plot.barh()\n",
        "plt.title(\"train\");"
      ],
      "execution_count": 29,
      "outputs": [
        {
          "output_type": "display_data",
          "data": {
            "image/png": "[encoded data removed]",
            "text/plain": [
              "<Figure size 432x288 with 1 Axes>"
            ]
          },
          "metadata": {
            "tags": [],
            "needs_background": "light"
          }
        }
      ]
    },
    {
      "cell_type": "code",
      "metadata": {
        "id": "4QnuQT_MCQRE",
        "colab": {
          "base_uri": "https://localhost:8080/",
          "height": 281
        },
        "outputId": "f3c9cf22-6894-42ad-eaa3-81f6e01dd193"
      },
      "source": [
        "df_valid.ethnicity.replace(d).value_counts().sort_index().plot.barh()\n",
        "plt.title(\"valid\");"
      ],
      "execution_count": 30,
      "outputs": [
        {
          "output_type": "display_data",
          "data": {
            "image/png": "[encoded data removed]",
            "text/plain": [
              "<Figure size 432x288 with 1 Axes>"
            ]
          },
          "metadata": {
            "tags": [],
            "needs_background": "light"
          }
        }
      ]
    },
    {
      "cell_type": "markdown",
      "metadata": {
        "id": "7s1uSlyO9irA"
      },
      "source": [
        "# 2. Creating the Datasets, Dataloaders and Databunch"
      ]
    },
    {
      "cell_type": "code",
      "metadata": {
        "id": "BMu7doTu9irB"
      },
      "source": [
        "class MultiTaskDataset(Dataset):\n",
        "    def __init__(self,df, tfms, size=64):\n",
        "        self.paths = list(df.name)\n",
        "        self.labels = list(df.label)\n",
        "        self.tfms = tfms\n",
        "        self.size = size\n",
        "        self.norm = transforms.Normalize([0.485, 0.456, 0.406], [0.229, 0.224, 0.225]) #imagenet stats\n",
        "\n",
        "    def __len__(self): return len(self.paths)\n",
        "\n",
        "    def __getitem__(self,idx):\n",
        "        #dealing with the image\n",
        "        img = PIL.Image.open(self.paths[idx]).convert('RGB')\n",
        "        img = Image(pil2tensor(img, dtype=np.float32).div_(255))\n",
        "        img = img.apply_tfms(self.tfms, size = self.size)\n",
        "        img = self.norm(img.data)\n",
        "\n",
        "        #dealing with the labels\n",
        "        labels = self.labels[idx].split(\" \")\n",
        "        age = torch.tensor(float(labels[0]), dtype=torch.float32)\n",
        "        gender = torch.tensor(int(labels[1]), dtype=torch.int64)\n",
        "        ethnicity = torch.tensor(int(labels[2]), dtype=torch.int64)\n",
        "        \n",
        "        return img.data, (age.log_()/4.75, gender, ethnicity)\n",
        "\n",
        "    def show(self,idx):\n",
        "        x,y = self.__getitem__(idx)\n",
        "        age,gender,ethnicity = y\n",
        "        stds = np.array([0.229, 0.224, 0.225])\n",
        "        means = np.array([0.485, 0.456, 0.406])\n",
        "        img = ((x.numpy().transpose((1,2,0))*stds + means)*255).astype(np.uint8)\n",
        "        plt.imshow(img)\n",
        "        plt.title(\"{} {} {}\".format(int(age.mul_(4.75).exp_().item()), gender.item(), ethnicity.item()))"
      ],
      "execution_count": 31,
      "outputs": []
    },
    {
      "cell_type": "code",
      "metadata": {
        "id": "fPDM5OgU9irF"
      },
      "source": [
        "tfms = get_transforms()\n",
        "train_ds = MultiTaskDataset(df_train, tfms[0], size=64)\n",
        "valid_ds = MultiTaskDataset(df_valid, tfms[1], size=64)\n",
        "train_dl = DataLoader(train_ds, batch_size=512, shuffle=True, num_workers=2)\n",
        "valid_dl = DataLoader(valid_ds, batch_size=512, shuffle=True, num_workers=2)\n",
        "data = DataBunch(train_dl, valid_dl)"
      ],
      "execution_count": 32,
      "outputs": []
    },
    {
      "cell_type": "code",
      "metadata": {
        "id": "5RZfLFxbHMQG",
        "colab": {
          "base_uri": "https://localhost:8080/",
          "height": 281
        },
        "outputId": "b7eb9c5c-4e06-4bac-b220-950c0032b0a7"
      },
      "source": [
        "train_ds.show(0)"
      ],
      "execution_count": 33,
      "outputs": [
        {
          "output_type": "display_data",
          "data": {
            "image/png": "[encoded data removed]",
            "text/plain": [
              "<Figure size 432x288 with 1 Axes>"
            ]
          },
          "metadata": {
            "tags": [],
            "needs_background": "light"
          }
        }
      ]
    },
    {
      "cell_type": "code",
      "metadata": {
        "id": "19aPXnp4H3e4",
        "colab": {
          "base_uri": "https://localhost:8080/",
          "height": 281
        },
        "outputId": "c826e5bc-689f-4736-aad7-4280d38329a8"
      },
      "source": [
        "valid_ds.show(0)"
      ],
      "execution_count": 34,
      "outputs": [
        {
          "output_type": "display_data",
          "data": {
            "image/png": "[encoded data removed]",
            "text/plain": [
              "<Figure size 432x288 with 1 Axes>"
            ]
          },
          "metadata": {
            "tags": [],
            "needs_background": "light"
          }
        }
      ]
    },
    {
      "cell_type": "code",
      "metadata": {
        "id": "6zB066zs9irL"
      },
      "source": [
        "class MultiTaskModel(nn.Module):\n",
        "    def __init__(self, arch,ps=0.5):\n",
        "        super(MultiTaskModel,self).__init__()\n",
        "        self.encoder = create_body(arch)\n",
        "        self.fc1 = create_head(1024,1,ps=ps)\n",
        "        self.fc2 = create_head(1024,2,ps=ps)\n",
        "        self.fc3 = create_head(1024,5,ps=ps)\n",
        "\n",
        "    def forward(self,x):\n",
        "\n",
        "        x = self.encoder(x)\n",
        "        age = torch.sigmoid(self.fc1(x))\n",
        "        gender = self.fc2(x)\n",
        "        ethnicity = self.fc3(x)\n",
        "\n",
        "        return [age, gender, ethnicity]"
      ],
      "execution_count": 40,
      "outputs": []
    },
    {
      "cell_type": "code",
      "metadata": {
        "id": "6EngWzjf9irR"
      },
      "source": [
        "class MultiTaskLossWrapper(nn.Module):\n",
        "    def __init__(self, task_num):\n",
        "        super(MultiTaskLossWrapper, self).__init__()\n",
        "        self.task_num = task_num\n",
        "        self.log_vars = nn.Parameter(torch.zeros((task_num)))\n",
        "\n",
        "    def forward(self, preds, age, gender, ethnicity):\n",
        "\n",
        "        mse, crossEntropy = MSELossFlat(), CrossEntropyFlat()\n",
        "        \n",
        "        sages = (age*4.75).exp_()\n",
        "        idx1 = (sages <20) | ((sages > 40) & (sages <= 60))\n",
        "        idx2 = sages > 60\n",
        "        loss0 = mse(preds[0], age) + 2*mse(preds[0][idx1],age[idx1]) + 3*mse(preds[0][idx2],age[idx2]) #trying to account for the imbalance\n",
        "        loss1 = crossEntropy(preds[1],gender)\n",
        "        loss2 = crossEntropy(preds[2],ethnicity)\n",
        "\n",
        "        precision0 = torch.exp(-self.log_vars[0])\n",
        "        loss0 = precision0*loss0 + self.log_vars[0]\n",
        "\n",
        "        precision1 = torch.exp(-self.log_vars[1])\n",
        "        loss1 = precision1*loss1 + self.log_vars[1]\n",
        "\n",
        "        precision2 = torch.exp(-self.log_vars[2])\n",
        "        loss2 = precision2*loss2 + self.log_vars[2]\n",
        "        \n",
        "        return loss0+loss1+loss2"
      ],
      "execution_count": 41,
      "outputs": []
    },
    {
      "cell_type": "markdown",
      "metadata": {
        "id": "zs7kHJaI9irV"
      },
      "source": [
        "# 4. Defining Metrics, Learner and Training"
      ]
    },
    {
      "cell_type": "code",
      "metadata": {
        "id": "8dgTnuKj9irV"
      },
      "source": [
        "def rmse_age(preds, age, gender, ethnicity): return root_mean_squared_error(preds[0],age)\n",
        "def acc_gender(preds, age, gender, ethnicity): return accuracy(preds[1], gender)\n",
        "def acc_ethnicity(preds, age, gender, ethnicity): return accuracy(preds[2], ethnicity)\n",
        "metrics = [rmse_age, acc_gender, acc_ethnicity]"
      ],
      "execution_count": 42,
      "outputs": []
    },
    {
      "cell_type": "code",
      "metadata": {
        "id": "TfCVgLAO9irk",
        "colab": {
          "base_uri": "https://localhost:8080/",
          "height": 105,
          "referenced_widgets": [
            "e6bf79449bd44d4b940d26d8d5899cfb",
            "af4f370db5cf4d38a72d234a33cc5b7a",
            "0f68194ab1a14a77951d9bd20945c5fb",
            "2f7da0918b5d4ec0bc81714724ab5e73",
            "5a1c34bfce0a4fc292349c99bd1c3602",
            "2c96b5bf41ba431fa541aa7777c6cfe2",
            "42849a5bd6944231a7ed4a8546f5c962",
            "2980c2ce28854b589de9469b871f2719"
          ]
        },
        "outputId": "2d9c4b33-5f88-4078-b9ce-414096c82f27"
      },
      "source": [
        "model = MultiTaskModel(models.resnet18, ps=0.25)\n",
        "\n",
        "loss_func = MultiTaskLossWrapper(3).to(data.device) #just making sure the loss is on the gpu\n",
        "\n",
        "learn = Learner(data, model, loss_func=loss_func, callback_fns=ShowGraph, metrics=metrics)\n",
        "\n",
        "# spliting the model so that I can use discriminative learning rates\n",
        "learn.split([learn.model.encoder[:6],\n",
        "             learn.model.encoder[6:],\n",
        "             nn.ModuleList([learn.model.fc1, learn.model.fc2, learn.model.fc3])]);\n",
        "\n",
        "#first I'll train only the last layer group (the heads)\n",
        "learn.freeze()"
      ],
      "execution_count": 43,
      "outputs": [
        {
          "output_type": "stream",
          "text": [
            "Downloading: \"https://download.pytorch.org/models/resnet18-5c106cde.pth\" to /root/.cache/torch/hub/checkpoints/resnet18-5c106cde.pth\n"
          ],
          "name": "stderr"
        },
        {
          "output_type": "display_data",
          "data": {
            "application/vnd.jupyter.widget-view+json": {
              "model_id": "e6bf79449bd44d4b940d26d8d5899cfb",
              "version_minor": 0,
              "version_major": 2
            },
            "text/plain": [
              "HBox(children=(FloatProgress(value=0.0, max=46827520.0), HTML(value='')))"
            ]
          },
          "metadata": {
            "tags": []
          }
        },
        {
          "output_type": "stream",
          "text": [
            "\n"
          ],
          "name": "stdout"
        }
      ]
    },
    {
      "cell_type": "code",
      "metadata": {
        "id": "NEm2IbbeME3v",
        "colab": {
          "base_uri": "https://localhost:8080/"
        },
        "outputId": "b0ebc34b-46b6-41d6-9779-fac98775843a"
      },
      "source": [
        "from torchsummary import summary\n",
        "summary(model, input_size=(3,48, 48))"
      ],
      "execution_count": 44,
      "outputs": [
        {
          "output_type": "stream",
          "text": [
            "----------------------------------------------------------------\n",
            "        Layer (type)               Output Shape         Param #\n",
            "================================================================\n",
            "            Conv2d-1           [-1, 64, 24, 24]           9,408\n",
            "       BatchNorm2d-2           [-1, 64, 24, 24]             128\n",
            "              ReLU-3           [-1, 64, 24, 24]               0\n",
            "         MaxPool2d-4           [-1, 64, 12, 12]               0\n",
            "            Conv2d-5           [-1, 64, 12, 12]          36,864\n",
            "       BatchNorm2d-6           [-1, 64, 12, 12]             128\n",
            "              ReLU-7           [-1, 64, 12, 12]               0\n",
            "            Conv2d-8           [-1, 64, 12, 12]          36,864\n",
            "       BatchNorm2d-9           [-1, 64, 12, 12]             128\n",
            "             ReLU-10           [-1, 64, 12, 12]               0\n",
            "       BasicBlock-11           [-1, 64, 12, 12]               0\n",
            "           Conv2d-12           [-1, 64, 12, 12]          36,864\n",
            "      BatchNorm2d-13           [-1, 64, 12, 12]             128\n",
            "             ReLU-14           [-1, 64, 12, 12]               0\n",
            "           Conv2d-15           [-1, 64, 12, 12]          36,864\n",
            "      BatchNorm2d-16           [-1, 64, 12, 12]             128\n",
            "             ReLU-17           [-1, 64, 12, 12]               0\n",
            "       BasicBlock-18           [-1, 64, 12, 12]               0\n",
            "           Conv2d-19            [-1, 128, 6, 6]          73,728\n",
            "      BatchNorm2d-20            [-1, 128, 6, 6]             256\n",
            "             ReLU-21            [-1, 128, 6, 6]               0\n",
            "           Conv2d-22            [-1, 128, 6, 6]         147,456\n",
            "      BatchNorm2d-23            [-1, 128, 6, 6]             256\n",
            "           Conv2d-24            [-1, 128, 6, 6]           8,192\n",
            "      BatchNorm2d-25            [-1, 128, 6, 6]             256\n",
            "             ReLU-26            [-1, 128, 6, 6]               0\n",
            "       BasicBlock-27            [-1, 128, 6, 6]               0\n",
            "           Conv2d-28            [-1, 128, 6, 6]         147,456\n",
            "      BatchNorm2d-29            [-1, 128, 6, 6]             256\n",
            "             ReLU-30            [-1, 128, 6, 6]               0\n",
            "           Conv2d-31            [-1, 128, 6, 6]         147,456\n",
            "      BatchNorm2d-32            [-1, 128, 6, 6]             256\n",
            "             ReLU-33            [-1, 128, 6, 6]               0\n",
            "       BasicBlock-34            [-1, 128, 6, 6]               0\n",
            "           Conv2d-35            [-1, 256, 3, 3]         294,912\n",
            "      BatchNorm2d-36            [-1, 256, 3, 3]             512\n",
            "             ReLU-37            [-1, 256, 3, 3]               0\n",
            "           Conv2d-38            [-1, 256, 3, 3]         589,824\n",
            "      BatchNorm2d-39            [-1, 256, 3, 3]             512\n",
            "           Conv2d-40            [-1, 256, 3, 3]          32,768\n",
            "      BatchNorm2d-41            [-1, 256, 3, 3]             512\n",
            "             ReLU-42            [-1, 256, 3, 3]               0\n",
            "       BasicBlock-43            [-1, 256, 3, 3]               0\n",
            "           Conv2d-44            [-1, 256, 3, 3]         589,824\n",
            "      BatchNorm2d-45            [-1, 256, 3, 3]             512\n",
            "             ReLU-46            [-1, 256, 3, 3]               0\n",
            "           Conv2d-47            [-1, 256, 3, 3]         589,824\n",
            "      BatchNorm2d-48            [-1, 256, 3, 3]             512\n",
            "             ReLU-49            [-1, 256, 3, 3]               0\n",
            "       BasicBlock-50            [-1, 256, 3, 3]               0\n",
            "           Conv2d-51            [-1, 512, 2, 2]       1,179,648\n",
            "      BatchNorm2d-52            [-1, 512, 2, 2]           1,024\n",
            "             ReLU-53            [-1, 512, 2, 2]               0\n",
            "           Conv2d-54            [-1, 512, 2, 2]       2,359,296\n",
            "      BatchNorm2d-55            [-1, 512, 2, 2]           1,024\n",
            "           Conv2d-56            [-1, 512, 2, 2]         131,072\n",
            "      BatchNorm2d-57            [-1, 512, 2, 2]           1,024\n",
            "             ReLU-58            [-1, 512, 2, 2]               0\n",
            "       BasicBlock-59            [-1, 512, 2, 2]               0\n",
            "           Conv2d-60            [-1, 512, 2, 2]       2,359,296\n",
            "      BatchNorm2d-61            [-1, 512, 2, 2]           1,024\n",
            "             ReLU-62            [-1, 512, 2, 2]               0\n",
            "           Conv2d-63            [-1, 512, 2, 2]       2,359,296\n",
            "      BatchNorm2d-64            [-1, 512, 2, 2]           1,024\n",
            "             ReLU-65            [-1, 512, 2, 2]               0\n",
            "       BasicBlock-66            [-1, 512, 2, 2]               0\n",
            "AdaptiveMaxPool2d-67            [-1, 512, 1, 1]               0\n",
            "AdaptiveAvgPool2d-68            [-1, 512, 1, 1]               0\n",
            "AdaptiveConcatPool2d-69           [-1, 1024, 1, 1]               0\n",
            "          Flatten-70                 [-1, 1024]               0\n",
            "      BatchNorm1d-71                 [-1, 1024]           2,048\n",
            "          Dropout-72                 [-1, 1024]               0\n",
            "           Linear-73                  [-1, 512]         524,800\n",
            "             ReLU-74                  [-1, 512]               0\n",
            "      BatchNorm1d-75                  [-1, 512]           1,024\n",
            "          Dropout-76                  [-1, 512]               0\n",
            "           Linear-77                    [-1, 1]             513\n",
            "AdaptiveMaxPool2d-78            [-1, 512, 1, 1]               0\n",
            "AdaptiveAvgPool2d-79            [-1, 512, 1, 1]               0\n",
            "AdaptiveConcatPool2d-80           [-1, 1024, 1, 1]               0\n",
            "          Flatten-81                 [-1, 1024]               0\n",
            "      BatchNorm1d-82                 [-1, 1024]           2,048\n",
            "          Dropout-83                 [-1, 1024]               0\n",
            "           Linear-84                  [-1, 512]         524,800\n",
            "             ReLU-85                  [-1, 512]               0\n",
            "      BatchNorm1d-86                  [-1, 512]           1,024\n",
            "          Dropout-87                  [-1, 512]               0\n",
            "           Linear-88                    [-1, 2]           1,026\n",
            "AdaptiveMaxPool2d-89            [-1, 512, 1, 1]               0\n",
            "AdaptiveAvgPool2d-90            [-1, 512, 1, 1]               0\n",
            "AdaptiveConcatPool2d-91           [-1, 1024, 1, 1]               0\n",
            "          Flatten-92                 [-1, 1024]               0\n",
            "      BatchNorm1d-93                 [-1, 1024]           2,048\n",
            "          Dropout-94                 [-1, 1024]               0\n",
            "           Linear-95                  [-1, 512]         524,800\n",
            "             ReLU-96                  [-1, 512]               0\n",
            "      BatchNorm1d-97                  [-1, 512]           1,024\n",
            "          Dropout-98                  [-1, 512]               0\n",
            "           Linear-99                    [-1, 5]           2,565\n",
            "================================================================\n",
            "Total params: 12,764,232\n",
            "Trainable params: 1,597,320\n",
            "Non-trainable params: 11,166,912\n",
            "----------------------------------------------------------------\n",
            "Input size (MB): 0.03\n",
            "Forward/backward pass size (MB): 3.16\n",
            "Params size (MB): 48.69\n",
            "Estimated Total Size (MB): 51.87\n",
            "----------------------------------------------------------------\n"
          ],
          "name": "stdout"
        }
      ]
    },
    {
      "cell_type": "code",
      "metadata": {
        "id": "gWef58IYaWT7",
        "colab": {
          "base_uri": "https://localhost:8080/",
          "height": 36
        },
        "outputId": "ab31277d-7cd8-4408-9da2-6600b7acf93d"
      },
      "source": [
        "torch.cuda.get_device_name()"
      ],
      "execution_count": 45,
      "outputs": [
        {
          "output_type": "execute_result",
          "data": {
            "application/vnd.google.colaboratory.intrinsic+json": {
              "type": "string"
            },
            "text/plain": [
              "'Tesla P100-PCIE-16GB'"
            ]
          },
          "metadata": {
            "tags": []
          },
          "execution_count": 45
        }
      ]
    },
    {
      "cell_type": "code",
      "metadata": {
        "id": "P_J947slaalf",
        "colab": {
          "base_uri": "https://localhost:8080/"
        },
        "outputId": "64908294-94ea-483b-b1bb-56b3e8e5872c"
      },
      "source": [
        "torch.cuda.get_device_properties(0)"
      ],
      "execution_count": 46,
      "outputs": [
        {
          "output_type": "execute_result",
          "data": {
            "text/plain": [
              "_CudaDeviceProperties(name='Tesla P100-PCIE-16GB', major=6, minor=0, total_memory=16280MB, multi_processor_count=56)"
            ]
          },
          "metadata": {
            "tags": []
          },
          "execution_count": 46
        }
      ]
    },
    {
      "cell_type": "code",
      "metadata": {
        "id": "7Kzfi_Cb9irp"
      },
      "source": [
        "learn.lr_find()\n"
      ],
      "execution_count": null,
      "outputs": []
    },
    {
      "cell_type": "code",
      "metadata": {
        "id": "qIWjnDjLv9wG"
      },
      "source": [
        "learn.recorder.plot()"
      ],
      "execution_count": null,
      "outputs": []
    },
    {
      "cell_type": "code",
      "metadata": {
        "id": "i7Vhz2rG9irt",
        "colab": {
          "base_uri": "https://localhost:8080/",
          "height": 418
        },
        "outputId": "3f1a62b9-1895-418e-ed92-48e365fc3bf6"
      },
      "source": [
        "learn.fit_one_cycle(1,max_lr=1e-2)"
      ],
      "execution_count": 48,
      "outputs": [
        {
          "output_type": "display_data",
          "data": {
            "text/html": [
              "\n",
              "    <div>\n",
              "        <style>\n",
              "            /* Turns off some styling */\n",
              "            progress {\n",
              "                /* gets rid of default border in Firefox and Opera. */\n",
              "                border: none;\n",
              "                /* Needs to be in here for Safari polyfill so background images work as expected. */\n",
              "                background-size: auto;\n",
              "            }\n",
              "            .progress-bar-interrupted, .progress-bar-interrupted::-webkit-progress-bar {\n",
              "                background: #F44336;\n",
              "            }\n",
              "        </style>\n",
              "      <progress value='0' class='' max='1' style='width:300px; height:20px; vertical-align: middle;'></progress>\n",
              "      0.00% [0/1 00:00<00:00]\n",
              "    </div>\n",
              "    \n",
              "<table border=\"1\" class=\"dataframe\">\n",
              "  <thead>\n",
              "    <tr style=\"text-align: left;\">\n",
              "      <th>epoch</th>\n",
              "      <th>train_loss</th>\n",
              "      <th>valid_loss</th>\n",
              "      <th>rmse_age</th>\n",
              "      <th>acc_gender</th>\n",
              "      <th>acc_ethnicity</th>\n",
              "      <th>time</th>\n",
              "    </tr>\n",
              "  </thead>\n",
              "  <tbody>\n",
              "  </tbody>\n",
              "</table><p>\n",
              "\n",
              "    <div>\n",
              "        <style>\n",
              "            /* Turns off some styling */\n",
              "            progress {\n",
              "                /* gets rid of default border in Firefox and Opera. */\n",
              "                border: none;\n",
              "                /* Needs to be in here for Safari polyfill so background images work as expected. */\n",
              "                background-size: auto;\n",
              "            }\n",
              "            .progress-bar-interrupted, .progress-bar-interrupted::-webkit-progress-bar {\n",
              "                background: #F44336;\n",
              "            }\n",
              "        </style>\n",
              "      <progress value='0' class='' max='1' style='width:300px; height:20px; vertical-align: middle;'></progress>\n",
              "      0.00% [0/1 00:00<00:00]\n",
              "    </div>\n",
              "    "
            ],
            "text/plain": [
              "<IPython.core.display.HTML object>"
            ]
          },
          "metadata": {
            "tags": []
          }
        },
        {
          "output_type": "error",
          "ename": "RuntimeError",
          "evalue": "ignored",
          "traceback": [
            "\u001b[0;31m---------------------------------------------------------------------------\u001b[0m",
            "\u001b[0;31mRuntimeError\u001b[0m                              Traceback (most recent call last)",
            "\u001b[0;32m<ipython-input-48-df158cd85f07>\u001b[0m in \u001b[0;36m<module>\u001b[0;34m()\u001b[0m\n\u001b[0;32m----> 1\u001b[0;31m learn.fit_one_cycle(1,max_lr=1e-2,\n\u001b[0m\u001b[1;32m      2\u001b[0m                     )\n",
            "\u001b[0;32m/usr/local/lib/python3.6/dist-packages/fastai/train.py\u001b[0m in \u001b[0;36mfit_one_cycle\u001b[0;34m(learn, cyc_len, max_lr, moms, div_factor, pct_start, final_div, wd, callbacks, tot_epochs, start_epoch)\u001b[0m\n\u001b[1;32m     21\u001b[0m     callbacks.append(OneCycleScheduler(learn, max_lr, moms=moms, div_factor=div_factor, pct_start=pct_start,\n\u001b[1;32m     22\u001b[0m                                        final_div=final_div, tot_epochs=tot_epochs, start_epoch=start_epoch))\n\u001b[0;32m---> 23\u001b[0;31m     \u001b[0mlearn\u001b[0m\u001b[0;34m.\u001b[0m\u001b[0mfit\u001b[0m\u001b[0;34m(\u001b[0m\u001b[0mcyc_len\u001b[0m\u001b[0;34m,\u001b[0m \u001b[0mmax_lr\u001b[0m\u001b[0;34m,\u001b[0m \u001b[0mwd\u001b[0m\u001b[0;34m=\u001b[0m\u001b[0mwd\u001b[0m\u001b[0;34m,\u001b[0m \u001b[0mcallbacks\u001b[0m\u001b[0;34m=\u001b[0m\u001b[0mcallbacks\u001b[0m\u001b[0;34m)\u001b[0m\u001b[0;34m\u001b[0m\u001b[0;34m\u001b[0m\u001b[0m\n\u001b[0m\u001b[1;32m     24\u001b[0m \u001b[0;34m\u001b[0m\u001b[0m\n\u001b[1;32m     25\u001b[0m def fit_fc(learn:Learner, tot_epochs:int=1, lr:float=defaults.lr,  moms:Tuple[float,float]=(0.95,0.85), start_pct:float=0.72,\n",
            "\u001b[0;32m/usr/local/lib/python3.6/dist-packages/fastai/basic_train.py\u001b[0m in \u001b[0;36mfit\u001b[0;34m(self, epochs, lr, wd, callbacks)\u001b[0m\n\u001b[1;32m    198\u001b[0m         \u001b[0;32melse\u001b[0m\u001b[0;34m:\u001b[0m \u001b[0mself\u001b[0m\u001b[0;34m.\u001b[0m\u001b[0mopt\u001b[0m\u001b[0;34m.\u001b[0m\u001b[0mlr\u001b[0m\u001b[0;34m,\u001b[0m\u001b[0mself\u001b[0m\u001b[0;34m.\u001b[0m\u001b[0mopt\u001b[0m\u001b[0;34m.\u001b[0m\u001b[0mwd\u001b[0m \u001b[0;34m=\u001b[0m \u001b[0mlr\u001b[0m\u001b[0;34m,\u001b[0m\u001b[0mwd\u001b[0m\u001b[0;34m\u001b[0m\u001b[0;34m\u001b[0m\u001b[0m\n\u001b[1;32m    199\u001b[0m         \u001b[0mcallbacks\u001b[0m \u001b[0;34m=\u001b[0m \u001b[0;34m[\u001b[0m\u001b[0mcb\u001b[0m\u001b[0;34m(\u001b[0m\u001b[0mself\u001b[0m\u001b[0;34m)\u001b[0m \u001b[0;32mfor\u001b[0m \u001b[0mcb\u001b[0m \u001b[0;32min\u001b[0m \u001b[0mself\u001b[0m\u001b[0;34m.\u001b[0m\u001b[0mcallback_fns\u001b[0m \u001b[0;34m+\u001b[0m \u001b[0mlistify\u001b[0m\u001b[0;34m(\u001b[0m\u001b[0mdefaults\u001b[0m\u001b[0;34m.\u001b[0m\u001b[0mextra_callback_fns\u001b[0m\u001b[0;34m)\u001b[0m\u001b[0;34m]\u001b[0m \u001b[0;34m+\u001b[0m \u001b[0mlistify\u001b[0m\u001b[0;34m(\u001b[0m\u001b[0mcallbacks\u001b[0m\u001b[0;34m)\u001b[0m\u001b[0;34m\u001b[0m\u001b[0;34m\u001b[0m\u001b[0m\n\u001b[0;32m--> 200\u001b[0;31m         \u001b[0mfit\u001b[0m\u001b[0;34m(\u001b[0m\u001b[0mepochs\u001b[0m\u001b[0;34m,\u001b[0m \u001b[0mself\u001b[0m\u001b[0;34m,\u001b[0m \u001b[0mmetrics\u001b[0m\u001b[0;34m=\u001b[0m\u001b[0mself\u001b[0m\u001b[0;34m.\u001b[0m\u001b[0mmetrics\u001b[0m\u001b[0;34m,\u001b[0m \u001b[0mcallbacks\u001b[0m\u001b[0;34m=\u001b[0m\u001b[0mself\u001b[0m\u001b[0;34m.\u001b[0m\u001b[0mcallbacks\u001b[0m\u001b[0;34m+\u001b[0m\u001b[0mcallbacks\u001b[0m\u001b[0;34m)\u001b[0m\u001b[0;34m\u001b[0m\u001b[0;34m\u001b[0m\u001b[0m\n\u001b[0m\u001b[1;32m    201\u001b[0m \u001b[0;34m\u001b[0m\u001b[0m\n\u001b[1;32m    202\u001b[0m     \u001b[0;32mdef\u001b[0m \u001b[0mcreate_opt\u001b[0m\u001b[0;34m(\u001b[0m\u001b[0mself\u001b[0m\u001b[0;34m,\u001b[0m \u001b[0mlr\u001b[0m\u001b[0;34m:\u001b[0m\u001b[0mFloats\u001b[0m\u001b[0;34m,\u001b[0m \u001b[0mwd\u001b[0m\u001b[0;34m:\u001b[0m\u001b[0mFloats\u001b[0m\u001b[0;34m=\u001b[0m\u001b[0;36m0.\u001b[0m\u001b[0;34m)\u001b[0m\u001b[0;34m->\u001b[0m\u001b[0;32mNone\u001b[0m\u001b[0;34m:\u001b[0m\u001b[0;34m\u001b[0m\u001b[0;34m\u001b[0m\u001b[0m\n",
            "\u001b[0;32m/usr/local/lib/python3.6/dist-packages/fastai/basic_train.py\u001b[0m in \u001b[0;36mfit\u001b[0;34m(epochs, learn, callbacks, metrics)\u001b[0m\n\u001b[1;32m    104\u001b[0m             \u001b[0;32mif\u001b[0m \u001b[0;32mnot\u001b[0m \u001b[0mcb_handler\u001b[0m\u001b[0;34m.\u001b[0m\u001b[0mskip_validate\u001b[0m \u001b[0;32mand\u001b[0m \u001b[0;32mnot\u001b[0m \u001b[0mlearn\u001b[0m\u001b[0;34m.\u001b[0m\u001b[0mdata\u001b[0m\u001b[0;34m.\u001b[0m\u001b[0mempty_val\u001b[0m\u001b[0;34m:\u001b[0m\u001b[0;34m\u001b[0m\u001b[0;34m\u001b[0m\u001b[0m\n\u001b[1;32m    105\u001b[0m                 val_loss = validate(learn.model, learn.data.valid_dl, loss_func=learn.loss_func,\n\u001b[0;32m--> 106\u001b[0;31m                                        cb_handler=cb_handler, pbar=pbar)\n\u001b[0m\u001b[1;32m    107\u001b[0m             \u001b[0;32melse\u001b[0m\u001b[0;34m:\u001b[0m \u001b[0mval_loss\u001b[0m\u001b[0;34m=\u001b[0m\u001b[0;32mNone\u001b[0m\u001b[0;34m\u001b[0m\u001b[0;34m\u001b[0m\u001b[0m\n\u001b[1;32m    108\u001b[0m             \u001b[0;32mif\u001b[0m \u001b[0mcb_handler\u001b[0m\u001b[0;34m.\u001b[0m\u001b[0mon_epoch_end\u001b[0m\u001b[0;34m(\u001b[0m\u001b[0mval_loss\u001b[0m\u001b[0;34m)\u001b[0m\u001b[0;34m:\u001b[0m \u001b[0;32mbreak\u001b[0m\u001b[0;34m\u001b[0m\u001b[0;34m\u001b[0m\u001b[0m\n",
            "\u001b[0;32m/usr/local/lib/python3.6/dist-packages/fastai/basic_train.py\u001b[0m in \u001b[0;36mvalidate\u001b[0;34m(model, dl, loss_func, cb_handler, pbar, average, n_batch)\u001b[0m\n\u001b[1;32m     57\u001b[0m         \u001b[0;32mfor\u001b[0m \u001b[0mxb\u001b[0m\u001b[0;34m,\u001b[0m\u001b[0myb\u001b[0m \u001b[0;32min\u001b[0m \u001b[0mprogress_bar\u001b[0m\u001b[0;34m(\u001b[0m\u001b[0mdl\u001b[0m\u001b[0;34m,\u001b[0m \u001b[0mparent\u001b[0m\u001b[0;34m=\u001b[0m\u001b[0mpbar\u001b[0m\u001b[0;34m,\u001b[0m \u001b[0mleave\u001b[0m\u001b[0;34m=\u001b[0m\u001b[0;34m(\u001b[0m\u001b[0mpbar\u001b[0m \u001b[0;32mis\u001b[0m \u001b[0;32mnot\u001b[0m \u001b[0;32mNone\u001b[0m\u001b[0;34m)\u001b[0m\u001b[0;34m)\u001b[0m\u001b[0;34m:\u001b[0m\u001b[0;34m\u001b[0m\u001b[0;34m\u001b[0m\u001b[0m\n\u001b[1;32m     58\u001b[0m             \u001b[0;32mif\u001b[0m \u001b[0mcb_handler\u001b[0m\u001b[0;34m:\u001b[0m \u001b[0mxb\u001b[0m\u001b[0;34m,\u001b[0m \u001b[0myb\u001b[0m \u001b[0;34m=\u001b[0m \u001b[0mcb_handler\u001b[0m\u001b[0;34m.\u001b[0m\u001b[0mon_batch_begin\u001b[0m\u001b[0;34m(\u001b[0m\u001b[0mxb\u001b[0m\u001b[0;34m,\u001b[0m \u001b[0myb\u001b[0m\u001b[0;34m,\u001b[0m \u001b[0mtrain\u001b[0m\u001b[0;34m=\u001b[0m\u001b[0;32mFalse\u001b[0m\u001b[0;34m)\u001b[0m\u001b[0;34m\u001b[0m\u001b[0;34m\u001b[0m\u001b[0m\n\u001b[0;32m---> 59\u001b[0;31m             \u001b[0mval_loss\u001b[0m \u001b[0;34m=\u001b[0m \u001b[0mloss_batch\u001b[0m\u001b[0;34m(\u001b[0m\u001b[0mmodel\u001b[0m\u001b[0;34m,\u001b[0m \u001b[0mxb\u001b[0m\u001b[0;34m,\u001b[0m \u001b[0myb\u001b[0m\u001b[0;34m,\u001b[0m \u001b[0mloss_func\u001b[0m\u001b[0;34m,\u001b[0m \u001b[0mcb_handler\u001b[0m\u001b[0;34m=\u001b[0m\u001b[0mcb_handler\u001b[0m\u001b[0;34m)\u001b[0m\u001b[0;34m\u001b[0m\u001b[0;34m\u001b[0m\u001b[0m\n\u001b[0m\u001b[1;32m     60\u001b[0m             \u001b[0mval_losses\u001b[0m\u001b[0;34m.\u001b[0m\u001b[0mappend\u001b[0m\u001b[0;34m(\u001b[0m\u001b[0mval_loss\u001b[0m\u001b[0;34m)\u001b[0m\u001b[0;34m\u001b[0m\u001b[0;34m\u001b[0m\u001b[0m\n\u001b[1;32m     61\u001b[0m             \u001b[0;32mif\u001b[0m \u001b[0;32mnot\u001b[0m \u001b[0mis_listy\u001b[0m\u001b[0;34m(\u001b[0m\u001b[0myb\u001b[0m\u001b[0;34m)\u001b[0m\u001b[0;34m:\u001b[0m \u001b[0myb\u001b[0m \u001b[0;34m=\u001b[0m \u001b[0;34m[\u001b[0m\u001b[0myb\u001b[0m\u001b[0;34m]\u001b[0m\u001b[0;34m\u001b[0m\u001b[0;34m\u001b[0m\u001b[0m\n",
            "\u001b[0;32m/usr/local/lib/python3.6/dist-packages/fastai/basic_train.py\u001b[0m in \u001b[0;36mloss_batch\u001b[0;34m(model, xb, yb, loss_func, opt, cb_handler)\u001b[0m\n\u001b[1;32m     36\u001b[0m         \u001b[0;32mif\u001b[0m \u001b[0;32mnot\u001b[0m \u001b[0mcb_handler\u001b[0m\u001b[0;34m.\u001b[0m\u001b[0mon_step_end\u001b[0m\u001b[0;34m(\u001b[0m\u001b[0;34m)\u001b[0m\u001b[0;34m:\u001b[0m     \u001b[0mopt\u001b[0m\u001b[0;34m.\u001b[0m\u001b[0mzero_grad\u001b[0m\u001b[0;34m(\u001b[0m\u001b[0;34m)\u001b[0m\u001b[0;34m\u001b[0m\u001b[0;34m\u001b[0m\u001b[0m\n\u001b[1;32m     37\u001b[0m \u001b[0;34m\u001b[0m\u001b[0m\n\u001b[0;32m---> 38\u001b[0;31m     \u001b[0;32mreturn\u001b[0m \u001b[0mloss\u001b[0m\u001b[0;34m.\u001b[0m\u001b[0mdetach\u001b[0m\u001b[0;34m(\u001b[0m\u001b[0;34m)\u001b[0m\u001b[0;34m.\u001b[0m\u001b[0mcpu\u001b[0m\u001b[0;34m(\u001b[0m\u001b[0;34m)\u001b[0m\u001b[0;34m\u001b[0m\u001b[0;34m\u001b[0m\u001b[0m\n\u001b[0m\u001b[1;32m     39\u001b[0m \u001b[0;34m\u001b[0m\u001b[0m\n\u001b[1;32m     40\u001b[0m def get_preds(model:nn.Module, dl:DataLoader, pbar:Optional[PBar]=None, cb_handler:Optional[CallbackHandler]=None,\n",
            "\u001b[0;31mRuntimeError\u001b[0m: CUDA error: device-side assert triggered"
          ]
        }
      ]
    },
    {
      "cell_type": "code",
      "metadata": {
        "id": "_cA0cL1rDiRC"
      },
      "source": [
        "learn.load(\"stage-1\");"
      ],
      "execution_count": null,
      "outputs": []
    },
    {
      "cell_type": "code",
      "metadata": {
        "id": "2__ZdoZV9iry"
      },
      "source": [
        "learn.unfreeze()\n",
        "learn.lr_find()\n",
        "learn.recorder.plot()"
      ],
      "execution_count": null,
      "outputs": []
    },
    {
      "cell_type": "code",
      "metadata": {
        "id": "uMzjjZp59ir5"
      },
      "source": [
        "learn.unfreeze()\n",
        "learn.fit_one_cycle(5,max_lr=slice(1e-6,3e-4),\n",
        "                   callbacks=[callbacks.SaveModelCallback(learn, every='improvement', monitor='valid_loss', name='stage-2')])"
      ],
      "execution_count": null,
      "outputs": []
    },
    {
      "cell_type": "code",
      "metadata": {
        "id": "CEF80W9Ed4b8"
      },
      "source": [
        "learn = learn.load(\"stage-2\")"
      ],
      "execution_count": null,
      "outputs": []
    },
    {
      "cell_type": "markdown",
      "metadata": {
        "id": "pk0tt95HCQTD"
      },
      "source": [
        "\n",
        "# 5. Using the model to inference"
      ]
    },
    {
      "cell_type": "code",
      "metadata": {
        "id": "-Ba8NqiECQTE"
      },
      "source": [
        "trained_model = learn.model.cpu()\n",
        "torch.save(trained_model.state_dict(),\"model_params_resnet34\")"
      ],
      "execution_count": null,
      "outputs": []
    },
    {
      "cell_type": "code",
      "metadata": {
        "id": "WaD9yRGZz8RR"
      },
      "source": [
        "class AgenethPredictor():\n",
        "    def __init__(self, model):\n",
        "        self.model = model\n",
        "        self.tfms = get_transforms()[1]\n",
        "        self.norm = transforms.Normalize([0.485, 0.456, 0.406], [0.229, 0.224, 0.225]) #imagenet stats\n",
        "        self.gender = {0:\"Male\",1:\"Female\"}\n",
        "        self.ethnicity = {0:\"White\",1:\"Black\",2:\"Asian\",3:\"Indian\",4:\"Others\"}\n",
        "\n",
        "    def predict(self,x):\n",
        "        #x is a PIL Image\n",
        "        x = Image(pil2tensor(x, dtype=np.float32).div_(255))\n",
        "        x = x.apply_tfms(self.tfms, size = 64)\n",
        "        x = self.norm(x.data)\n",
        "        preds = self.model(x.unsqueeze(0))\n",
        "        age = int(torch.exp(preds[0]*4.75).item())\n",
        "        gender = self.gender[torch.softmax(preds[1],1).argmax().item()]\n",
        "        ethnicity = self.ethnicity[torch.softmax(preds[2],1).argmax().item()]\n",
        "        return age, gender, ethnicity"
      ],
      "execution_count": null,
      "outputs": []
    },
    {
      "cell_type": "code",
      "metadata": {
        "id": "VblfK8QPCQTR"
      },
      "source": [
        "ageneth_predictor = AgenethPredictor(trained_model)"
      ],
      "execution_count": null,
      "outputs": []
    },
    {
      "cell_type": "code",
      "metadata": {
        "id": "lpLi8GkkCQTW"
      },
      "source": [
        "img = PIL.Image.open(df_valid.name.iloc[100])\n",
        "img"
      ],
      "execution_count": null,
      "outputs": []
    },
    {
      "cell_type": "code",
      "metadata": {
        "id": "7vmT3S1Fepc0"
      },
      "source": [
        "df_valid.name.iloc[100]"
      ],
      "execution_count": null,
      "outputs": []
    },
    {
      "cell_type": "code",
      "metadata": {
        "id": "UyvcCp6kCQTc"
      },
      "source": [
        "%time ageneth_predictor.predict(img)"
      ],
      "execution_count": null,
      "outputs": []
    },
    {
      "cell_type": "code",
      "metadata": {
        "id": "HA-irmJ8ett3"
      },
      "source": [
        "img = PIL.Image.open(df_valid.name.iloc[1000])\n",
        "img"
      ],
      "execution_count": null,
      "outputs": []
    },
    {
      "cell_type": "code",
      "metadata": {
        "id": "qdzr37qgevc0"
      },
      "source": [
        "df_valid.name.iloc[1000]"
      ],
      "execution_count": null,
      "outputs": []
    },
    {
      "cell_type": "code",
      "metadata": {
        "id": "opHnjtEIexLf"
      },
      "source": [
        "%time ageneth_predictor.predict(img)"
      ],
      "execution_count": null,
      "outputs": []
    },
    {
      "cell_type": "code",
      "metadata": {
        "id": "7AVSQba2ezPL"
      },
      "source": [
        "img = PIL.Image.open(df_valid.name.iloc[2000])\n",
        "img"
      ],
      "execution_count": null,
      "outputs": []
    },
    {
      "cell_type": "code",
      "metadata": {
        "id": "3MN5SdP4e4kP"
      },
      "source": [
        "df_valid.name.iloc[2000]"
      ],
      "execution_count": null,
      "outputs": []
    },
    {
      "cell_type": "code",
      "metadata": {
        "id": "j8X5wrb6e_DM"
      },
      "source": [
        "%time ageneth_predictor.predict(img)"
      ],
      "execution_count": null,
      "outputs": []
    },
    {
      "cell_type": "code",
      "metadata": {
        "id": "jmeFLh041iNK"
      },
      "source": [
        "img = PIL.Image.open(df_valid.name.iloc[50])\n",
        "img"
      ],
      "execution_count": null,
      "outputs": []
    },
    {
      "cell_type": "code",
      "metadata": {
        "id": "XiZS-wtU1lGK"
      },
      "source": [
        "df_valid.name.iloc[50]"
      ],
      "execution_count": null,
      "outputs": []
    },
    {
      "cell_type": "code",
      "metadata": {
        "id": "Nm7VVjAs1ngE"
      },
      "source": [
        "%time ageneth_predictor.predict(img)"
      ],
      "execution_count": null,
      "outputs": []
    },
    {
      "cell_type": "code",
      "metadata": {
        "id": "y9pTKlUx1qCE"
      },
      "source": [
        "img = PIL.Image.open(df_valid.name.iloc[9000])\n",
        "img"
      ],
      "execution_count": null,
      "outputs": []
    },
    {
      "cell_type": "code",
      "metadata": {
        "id": "N3WuWDoi1veu"
      },
      "source": [
        "df_valid.name.iloc[9000]"
      ],
      "execution_count": null,
      "outputs": []
    },
    {
      "cell_type": "code",
      "metadata": {
        "id": "w1PlNtdo1z7f"
      },
      "source": [
        "%time ageneth_predictor.predict(img)"
      ],
      "execution_count": null,
      "outputs": []
    },
    {
      "cell_type": "code",
      "metadata": {
        "id": "T4yVn-zZ5qcV"
      },
      "source": [
        "img = PIL.Image.open(df_valid.name.iloc[-1])\n",
        "img"
      ],
      "execution_count": null,
      "outputs": []
    },
    {
      "cell_type": "code",
      "metadata": {
        "id": "Lk8NNSkW5r-h"
      },
      "source": [
        "df_valid.name.iloc[-1]"
      ],
      "execution_count": null,
      "outputs": []
    },
    {
      "cell_type": "code",
      "metadata": {
        "id": "Yx77CCiA5urx"
      },
      "source": [
        "%time ageneth_predictor.predict(img)"
      ],
      "execution_count": null,
      "outputs": []
    },
    {
      "cell_type": "code",
      "metadata": {
        "id": "vjOMxdPd5zlZ"
      },
      "source": [
        "img = PIL.Image.open(df_valid.name.iloc[-100])\n",
        "img"
      ],
      "execution_count": null,
      "outputs": []
    },
    {
      "cell_type": "code",
      "metadata": {
        "id": "XCSxLx75504k"
      },
      "source": [
        "df_valid.name.iloc[-100]"
      ],
      "execution_count": null,
      "outputs": []
    },
    {
      "cell_type": "code",
      "metadata": {
        "id": "3kPsmgoF53y4"
      },
      "source": [
        "%time ageneth_predictor.predict(img)"
      ],
      "execution_count": null,
      "outputs": []
    },
    {
      "cell_type": "code",
      "metadata": {
        "id": "IT2DXy5u6DQb"
      },
      "source": [
        "img = PIL.Image.open(df_valid.name.iloc[-500])\n",
        "img"
      ],
      "execution_count": null,
      "outputs": []
    },
    {
      "cell_type": "code",
      "metadata": {
        "id": "wOTRTiRA6E5-"
      },
      "source": [
        "df_valid.name.iloc[-500]"
      ],
      "execution_count": null,
      "outputs": []
    },
    {
      "cell_type": "code",
      "metadata": {
        "id": "2ZyfQOCg6Hp-"
      },
      "source": [
        "%time ageneth_predictor.predict(img)"
      ],
      "execution_count": null,
      "outputs": []
    }
  ]
}